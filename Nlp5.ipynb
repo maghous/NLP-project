{
  "cells": [
    {
      "cell_type": "code",
      "execution_count": 3,
      "id": "d924126a",
      "metadata": {
        "id": "d924126a",
        "colab": {
          "base_uri": "https://localhost:8080/"
        },
        "outputId": "517fe0db-2841-46b1-cfd1-f280704b8a7e"
      },
      "outputs": [
        {
          "output_type": "stream",
          "name": "stdout",
          "text": [
            "Looking in indexes: https://pypi.org/simple, https://us-python.pkg.dev/colab-wheels/public/simple/\n",
            "Requirement already satisfied: pyldavis in /usr/local/lib/python3.8/dist-packages (3.3.1)\n",
            "Requirement already satisfied: pandas>=1.2.0 in /usr/local/lib/python3.8/dist-packages (from pyldavis) (1.3.5)\n",
            "Requirement already satisfied: numpy>=1.20.0 in /usr/local/lib/python3.8/dist-packages (from pyldavis) (1.21.6)\n",
            "Requirement already satisfied: scipy in /usr/local/lib/python3.8/dist-packages (from pyldavis) (1.7.3)\n",
            "Requirement already satisfied: sklearn in /usr/local/lib/python3.8/dist-packages (from pyldavis) (0.0.post1)\n",
            "Requirement already satisfied: joblib in /usr/local/lib/python3.8/dist-packages (from pyldavis) (1.2.0)\n",
            "Requirement already satisfied: gensim in /usr/local/lib/python3.8/dist-packages (from pyldavis) (3.6.0)\n",
            "Requirement already satisfied: funcy in /usr/local/lib/python3.8/dist-packages (from pyldavis) (1.17)\n",
            "Requirement already satisfied: scikit-learn in /usr/local/lib/python3.8/dist-packages (from pyldavis) (1.0.2)\n",
            "Requirement already satisfied: numexpr in /usr/local/lib/python3.8/dist-packages (from pyldavis) (2.8.4)\n",
            "Requirement already satisfied: setuptools in /usr/local/lib/python3.8/dist-packages (from pyldavis) (57.4.0)\n",
            "Requirement already satisfied: jinja2 in /usr/local/lib/python3.8/dist-packages (from pyldavis) (2.11.3)\n",
            "Requirement already satisfied: future in /usr/local/lib/python3.8/dist-packages (from pyldavis) (0.16.0)\n",
            "Requirement already satisfied: pytz>=2017.3 in /usr/local/lib/python3.8/dist-packages (from pandas>=1.2.0->pyldavis) (2022.6)\n",
            "Requirement already satisfied: python-dateutil>=2.7.3 in /usr/local/lib/python3.8/dist-packages (from pandas>=1.2.0->pyldavis) (2.8.2)\n",
            "Requirement already satisfied: six>=1.5 in /usr/local/lib/python3.8/dist-packages (from python-dateutil>=2.7.3->pandas>=1.2.0->pyldavis) (1.15.0)\n",
            "Requirement already satisfied: smart-open>=1.2.1 in /usr/local/lib/python3.8/dist-packages (from gensim->pyldavis) (6.3.0)\n",
            "Requirement already satisfied: MarkupSafe>=0.23 in /usr/local/lib/python3.8/dist-packages (from jinja2->pyldavis) (2.0.1)\n",
            "Requirement already satisfied: threadpoolctl>=2.0.0 in /usr/local/lib/python3.8/dist-packages (from scikit-learn->pyldavis) (3.1.0)\n"
          ]
        }
      ],
      "source": [
        "!pip install pyldavis\n",
        "import pandas as pd\n",
        "import numpy as np "
      ]
    },
    {
      "cell_type": "code",
      "source": [
        "import re\n",
        "import string\n",
        "from gensim import corpora, models, similarities "
      ],
      "metadata": {
        "id": "t2-NlnrMB123"
      },
      "id": "t2-NlnrMB123",
      "execution_count": 5,
      "outputs": []
    },
    {
      "cell_type": "code",
      "source": [
        "df = pd.read_csv('ar_reviews_100k.tsv',sep='\\t')\n",
        "df.sample(5)"
      ],
      "metadata": {
        "colab": {
          "base_uri": "https://localhost:8080/",
          "height": 206
        },
        "id": "jY3mNLUoCPFC",
        "outputId": "c13dfdd5-ea82-4d21-f857-6a7590297b26"
      },
      "id": "jY3mNLUoCPFC",
      "execution_count": 8,
      "outputs": [
        {
          "output_type": "execute_result",
          "data": {
            "text/plain": [
              "          label                                               text\n",
              "21037  Positive  الذكريات بكل ما تحمله من مرارة و سعادة إلا أن ...\n",
              "47526     Mixed  أول كتاب اقرأه لمصطفى محمود، بالمجمل الكتاب جي...\n",
              "83992  Negative  مكان يستحق السكن و الاستمتاع فية . الموقع جدا ...\n",
              "81190  Negative  مخيب للأمل. . عدم وجود عوازل بين الغرف سماع ضج...\n",
              "47806     Mixed  كتاب خفيف وبسيط يضم مجموعة من المقالات المتفرق..."
            ],
            "text/html": [
              "\n",
              "  <div id=\"df-6ee1bfd0-73ac-4006-9a6d-3eca3ff5fc20\">\n",
              "    <div class=\"colab-df-container\">\n",
              "      <div>\n",
              "<style scoped>\n",
              "    .dataframe tbody tr th:only-of-type {\n",
              "        vertical-align: middle;\n",
              "    }\n",
              "\n",
              "    .dataframe tbody tr th {\n",
              "        vertical-align: top;\n",
              "    }\n",
              "\n",
              "    .dataframe thead th {\n",
              "        text-align: right;\n",
              "    }\n",
              "</style>\n",
              "<table border=\"1\" class=\"dataframe\">\n",
              "  <thead>\n",
              "    <tr style=\"text-align: right;\">\n",
              "      <th></th>\n",
              "      <th>label</th>\n",
              "      <th>text</th>\n",
              "    </tr>\n",
              "  </thead>\n",
              "  <tbody>\n",
              "    <tr>\n",
              "      <th>21037</th>\n",
              "      <td>Positive</td>\n",
              "      <td>الذكريات بكل ما تحمله من مرارة و سعادة إلا أن ...</td>\n",
              "    </tr>\n",
              "    <tr>\n",
              "      <th>47526</th>\n",
              "      <td>Mixed</td>\n",
              "      <td>أول كتاب اقرأه لمصطفى محمود، بالمجمل الكتاب جي...</td>\n",
              "    </tr>\n",
              "    <tr>\n",
              "      <th>83992</th>\n",
              "      <td>Negative</td>\n",
              "      <td>مكان يستحق السكن و الاستمتاع فية . الموقع جدا ...</td>\n",
              "    </tr>\n",
              "    <tr>\n",
              "      <th>81190</th>\n",
              "      <td>Negative</td>\n",
              "      <td>مخيب للأمل. . عدم وجود عوازل بين الغرف سماع ضج...</td>\n",
              "    </tr>\n",
              "    <tr>\n",
              "      <th>47806</th>\n",
              "      <td>Mixed</td>\n",
              "      <td>كتاب خفيف وبسيط يضم مجموعة من المقالات المتفرق...</td>\n",
              "    </tr>\n",
              "  </tbody>\n",
              "</table>\n",
              "</div>\n",
              "      <button class=\"colab-df-convert\" onclick=\"convertToInteractive('df-6ee1bfd0-73ac-4006-9a6d-3eca3ff5fc20')\"\n",
              "              title=\"Convert this dataframe to an interactive table.\"\n",
              "              style=\"display:none;\">\n",
              "        \n",
              "  <svg xmlns=\"http://www.w3.org/2000/svg\" height=\"24px\"viewBox=\"0 0 24 24\"\n",
              "       width=\"24px\">\n",
              "    <path d=\"M0 0h24v24H0V0z\" fill=\"none\"/>\n",
              "    <path d=\"M18.56 5.44l.94 2.06.94-2.06 2.06-.94-2.06-.94-.94-2.06-.94 2.06-2.06.94zm-11 1L8.5 8.5l.94-2.06 2.06-.94-2.06-.94L8.5 2.5l-.94 2.06-2.06.94zm10 10l.94 2.06.94-2.06 2.06-.94-2.06-.94-.94-2.06-.94 2.06-2.06.94z\"/><path d=\"M17.41 7.96l-1.37-1.37c-.4-.4-.92-.59-1.43-.59-.52 0-1.04.2-1.43.59L10.3 9.45l-7.72 7.72c-.78.78-.78 2.05 0 2.83L4 21.41c.39.39.9.59 1.41.59.51 0 1.02-.2 1.41-.59l7.78-7.78 2.81-2.81c.8-.78.8-2.07 0-2.86zM5.41 20L4 18.59l7.72-7.72 1.47 1.35L5.41 20z\"/>\n",
              "  </svg>\n",
              "      </button>\n",
              "      \n",
              "  <style>\n",
              "    .colab-df-container {\n",
              "      display:flex;\n",
              "      flex-wrap:wrap;\n",
              "      gap: 12px;\n",
              "    }\n",
              "\n",
              "    .colab-df-convert {\n",
              "      background-color: #E8F0FE;\n",
              "      border: none;\n",
              "      border-radius: 50%;\n",
              "      cursor: pointer;\n",
              "      display: none;\n",
              "      fill: #1967D2;\n",
              "      height: 32px;\n",
              "      padding: 0 0 0 0;\n",
              "      width: 32px;\n",
              "    }\n",
              "\n",
              "    .colab-df-convert:hover {\n",
              "      background-color: #E2EBFA;\n",
              "      box-shadow: 0px 1px 2px rgba(60, 64, 67, 0.3), 0px 1px 3px 1px rgba(60, 64, 67, 0.15);\n",
              "      fill: #174EA6;\n",
              "    }\n",
              "\n",
              "    [theme=dark] .colab-df-convert {\n",
              "      background-color: #3B4455;\n",
              "      fill: #D2E3FC;\n",
              "    }\n",
              "\n",
              "    [theme=dark] .colab-df-convert:hover {\n",
              "      background-color: #434B5C;\n",
              "      box-shadow: 0px 1px 3px 1px rgba(0, 0, 0, 0.15);\n",
              "      filter: drop-shadow(0px 1px 2px rgba(0, 0, 0, 0.3));\n",
              "      fill: #FFFFFF;\n",
              "    }\n",
              "  </style>\n",
              "\n",
              "      <script>\n",
              "        const buttonEl =\n",
              "          document.querySelector('#df-6ee1bfd0-73ac-4006-9a6d-3eca3ff5fc20 button.colab-df-convert');\n",
              "        buttonEl.style.display =\n",
              "          google.colab.kernel.accessAllowed ? 'block' : 'none';\n",
              "\n",
              "        async function convertToInteractive(key) {\n",
              "          const element = document.querySelector('#df-6ee1bfd0-73ac-4006-9a6d-3eca3ff5fc20');\n",
              "          const dataTable =\n",
              "            await google.colab.kernel.invokeFunction('convertToInteractive',\n",
              "                                                     [key], {});\n",
              "          if (!dataTable) return;\n",
              "\n",
              "          const docLinkHtml = 'Like what you see? Visit the ' +\n",
              "            '<a target=\"_blank\" href=https://colab.research.google.com/notebooks/data_table.ipynb>data table notebook</a>'\n",
              "            + ' to learn more about interactive tables.';\n",
              "          element.innerHTML = '';\n",
              "          dataTable['output_type'] = 'display_data';\n",
              "          await google.colab.output.renderOutput(dataTable, element);\n",
              "          const docLink = document.createElement('div');\n",
              "          docLink.innerHTML = docLinkHtml;\n",
              "          element.appendChild(docLink);\n",
              "        }\n",
              "      </script>\n",
              "    </div>\n",
              "  </div>\n",
              "  "
            ]
          },
          "metadata": {},
          "execution_count": 8
        }
      ]
    },
    {
      "cell_type": "code",
      "source": [
        "df['text'] = df['text'].astype(str)\n",
        "df['text'].head()"
      ],
      "metadata": {
        "colab": {
          "base_uri": "https://localhost:8080/"
        },
        "id": "Lp05fgUUGXnZ",
        "outputId": "fa34a96d-d6c4-4278-91a7-2ab8e9c65a93"
      },
      "id": "Lp05fgUUGXnZ",
      "execution_count": 10,
      "outputs": [
        {
          "output_type": "execute_result",
          "data": {
            "text/plain": [
              "0    ممتاز نوعا ما . النظافة والموقع والتجهيز والشا...\n",
              "1    أحد أسباب نجاح الإمارات أن كل شخص في هذه الدول...\n",
              "2    هادفة .. وقوية. تنقلك من صخب شوارع القاهرة الى...\n",
              "3    خلصنا .. مبدئيا اللي مستني ابهار زي الفيل الاز...\n",
              "4    ياسات جلوريا جزء لا يتجزأ من دبي . فندق متكامل...\n",
              "Name: text, dtype: object"
            ]
          },
          "metadata": {},
          "execution_count": 10
        }
      ]
    },
    {
      "cell_type": "code",
      "source": [
        "df['label'].value_counts()"
      ],
      "metadata": {
        "colab": {
          "base_uri": "https://localhost:8080/"
        },
        "id": "MtA6l2djHE4-",
        "outputId": "223f2628-398d-4808-b59b-394a6d4af163"
      },
      "id": "MtA6l2djHE4-",
      "execution_count": 15,
      "outputs": [
        {
          "output_type": "execute_result",
          "data": {
            "text/plain": [
              "Positive    33333\n",
              "Mixed       33333\n",
              "Negative    33333\n",
              "Name: label, dtype: int64"
            ]
          },
          "metadata": {},
          "execution_count": 15
        }
      ]
    },
    {
      "cell_type": "code",
      "source": [
        "import nltk\n",
        "from nltk.corpus import stopwords\n",
        "nltk.download('stopwords')\n",
        "stop_words = list(set(stopwords.words('arabic')))\n",
        "print(stop_words)"
      ],
      "metadata": {
        "colab": {
          "base_uri": "https://localhost:8080/"
        },
        "id": "pT-jrk2zKXEJ",
        "outputId": "1346b5b0-2ef9-435c-fcfa-4e97a9f41cee"
      },
      "id": "pT-jrk2zKXEJ",
      "execution_count": 17,
      "outputs": [
        {
          "output_type": "stream",
          "name": "stdout",
          "text": [
            "['بمن', 'صراحة', 'جيم', 'كأن', 'وا', 'إي', 'كأنما', 'لسنا', 'ز', 'إذا', 'عامة', 'واهاً', 'وهب', 'طرا', 'هذي', 'ستون', 'مكانكما', 'سبت', 'أربعمائة', 'إنَّ', 'ته', 'إياكم', 'بخٍ', 'أنت', 'هما', 'أخٌ', 'هم', 'ثلاثين', 'ياء', 'ما أفعله', 'هذين', 'قام', 'لن', 'كذا', 'سبحان', 'لا سيما', 'ثلاثمائة', 'فبراير', 'أنى', 'مما', 'حقا', 'طفق', 'ضاد', 'أف', 'إلا', 'ئ', 'خال', 'ذ', 'ذان', 'آهاً', 'بل', 'أنًّ', 'شيكل', 'كرب', 'في', 'ق', 'لها', 'مه', 'تينك', 'صباح', 'سمعا', 'خمسة', 'كانون', 'منه', 'دال', 'أن', 'مساء', 'خامس', 'جوان', 'خبَّر', 'أوشك', 'دولار', 'أيها', 'زود', 'أبٌ', 'كن', 'ذين', 'اثنين', 'أفٍّ', 'تعلَّم', 'أضحى', 'أيلول', 'أربعة', 'صبر', 'اربعين', 'لستم', 'أجمع', 'تحت', 'سبتمبر', 'سادس', 'إليكنّ', 'جلل', 'لنا', 'هنالك', 'مارس', 'درهم', 'أمس', 'ثان', 'فيها', 'ل', 'كيت', 'فو', 'حيَّ', 'ساء', 'ّأيّان', 'منذ', 'كأي', 'نعم', 'مئتان', 'ج', 'فإذا', 'لكي', 'سحقا', 'ثاني', 'حاشا', 'أى', 'لم', 'الألاء', 'ح', 'ليسوا', 'وهو', 'مايو', 'تسع', 'ذا', 'لكنَّ', 'لكن', 'ب', 'دون', 'يوان', 'اللتان', 'على', 'أول', 'ش', 'إى', 'آناء', 'منها', 'كأنّ', 'بؤسا', 'هل', 'أ', 'ذاك', 'رزق', 'عاشر', 'هبّ', 'سبعون', 'خاء', 'ذوا', 'أمد', 'شتان', 'كلّما', 'اللائي', 'عما', 'شباط', 'كيفما', 'إيهٍ', 'تارة', 'عند', 'وإن', 'ء', 'إياكما', 'ولكن', 'حاي', 'أيّان', 'ست', 'أنشأ', 'خلا', 'هذا', 'أل', 'ؤ', 'ماذا', 'نحن', 'ها', 'كل', 'ديسمبر', 'تخذ', 'أيا', 'صدقا', 'لدى', 'رويدك', 'ذي', 'قلما', 'زاي', 'تلقاء', 'إليك', 'أكتوبر', 'بيد', 'د', 'اثنا', 'رأى', 'أوّهْ', 'أنتم', 'أبو', 'سقى', 'ثمة', 'وإذ', 'كاف', 'هَاتانِ', 'ءَ', 'إذن', 'عشرة', 'وَيْ', 'تبدّل', 'كلَّا', 'ارتدّ', 'هَاتَيْنِ', 'تفعلين', 'ذِه', 'ذهب', 'بي', 'هَذِي', 'لاسيما', 'تسعمئة', 'اثني', 'أولئك', 'ثمانون', 'ذانك', 'من', 'اللذان', 'ي', 'مكانكنّ', 'وراءَك', 'دينار', 'معاذ', 'والذين', 'واحد', 'هاء', 'جانفي', 'ثمانية', 'ماي', 'لا', 'عشرين', 'أمسى', 'بعد', 'جميع', 'كى', 'شتانَ', 'ذِي', 'قد', 'أقبل', 'ذلكم', 'إياكن', 'تانِ', 'تلك', 'هاتان', 'سوى', 'ظ', 'كلاهما', 'شمال', 'أي', 'عيانا', 'نيف', 'ميم', 'ذينك', 'نا', 'أفريل', 'ستمائة', 'أم', 'لدن', 'زعم', 'يمين', 'أما', 'حتى', 'تفعلان', 'كم', 'ريث', 'اخلولق', 'فإن', 'لست', 'ثمّ', 'هلّا', 'سرا', 'ه', 'حيث', 'له', 'حسب', 'إيانا', 'تانِك', 'أجل', 'ثمانين', 'سبع', 'ف', 'بلى', 'دواليك', 'مليم', 'بَسْ', 'مائة', 'أنتِ', 'ليت', 'شبه', 'بضع', 'ليس', 'بها', 'آ', 'نوفمبر', 'سبعين', 'رُبَّ', 'إذ', 'نَّ', 'أرى', 'بئس', 'يورو', 'سين', 'تلكم', 'أفعل به', 'إن', 'آي', 'الذين', 'بكم', 'إلى', 'ثماني', 'كأين', 'التي', 'لهن', 'عشرون', 'نفس', 'تسعين', 'أحد', 'اتخذ', 'بعدا', 'ألفى', 'عدا', 'آذار', 'مئة', 'ذلكن', 'فيما', 'ترك', 'هذان', 'رابع', 'أطعم', 'ظنَّ', 'ممن', 'لعلَّ', 'حبيب', 'علق', 'اللاتي', 'هَجْ', 'طالما', 'إنا', 'هاكَ', 'قاطبة', 'يفعلون', 'طاء', 'ألف', 'أربعاء', 'بسّ', 'صهٍ', 'بطآن', 'ثم', 'كأيّن', 'أنّى', 'مادام', 'تاسع', 'نون', 'وجد', 'إياهم', 'م', 'مذ', 'لهم', 'غ', 'إليكَ', 'إلّا', 'وُشْكَانَ', 'هَذِه', 'ذات', 'سرعان', 'ثاء', 'خلف', 'بكن', 'ين', 'لسن', 'ثلاثون', 'تسعمائة', 'ولو', 'ط', 'عن', 'شين', 'باء', 'آهٍ', 'لئن', 'إلَيْكَ', 'هذه', 'خمسون', 'غير', 'حمٌ', 'سوف', 'تموز', 'طاق', 'ذانِ', 'الألى', 'لوما', 'عدَّ', 'بخ', 'بس', 'سبعمائة', 'لكيلا', 'ن', 'سنتيم', 'حَذارِ', 'أوت', 'عليه', 'دونك', 'أمامك', 'إياهن', 'أو', 'فيم', 'و', 'ك', 'إليكن', 'أغسطس', 'مكانكم', 'ظلّ', 'لما', 'هلا', 'حادي', 'أوه', 'ألا', 'عجبا', 'إحدى', 'مهما', 'ورد', 'تَيْنِ', 'صار', 'واو', 'اللتيا', 'ثمان', 'مافتئ', 'به', 'أنبأ', 'آنفا', 'غداة', 'شَتَّانَ', 'راء', 'خاصة', 'إليكما', 'لكم', 'ض', 'حين', 'طَق', 'ا', 'كليهما', 'علم', 'أبريل', 'هناك', 'لكنما', 'لمّا', 'راح', 'أيضا', 'درى', 'أيّ', 'ثمَّ', 'آض', 'إليكم', 'هؤلاء', 'خميس', 'كما', 'خمس', 'انبرى', 'بعض', 'ثلاثة', 'إياها', 'كلما', 'كان', 'ليسا', 'ما', 'حمو', 'أنتن', 'فلا', 'إيه', 'هيهات', 'ثامن', 'ظاء', 'صهْ', 'لبيك', 'أين', 'اللذين', 'نَخْ', 'بكما', 'يونيو', 'هَيْهات', 'أعلم', 'بهما', 'تفعلون', 'هن', 'اللتين', 'هَذا', 'صبرا', 'تين', 'عسى', 'آمينَ', 'أيار', 'تي', 'ثمانمئة', 'آهِ', 'بين', 'ليرة', 'كي', 'حدَث', 'خمسين', 'عين', 'لكما', 'ذواتي', 'س', 'إما', 'إياي', 'حزيران', 'إنما', 'عليك', 'ليستا', 'جمعة', 'حجا', 'ص', 'ثالث', 'لك', 'استحال', 'حاء', 'أعطى', 'لام', 'كاد', 'ليست', 'سابع', 'عَدَسْ', 'بَلْهَ', 'ذواتا', 'خمسمئة', 'هَؤلاء', 'عوض', 'بنا', 'يا', 'سبعة', 'تاء', 'لات', 'جويلية', 'قبل', 'بات', 'تلكما', 'هيا', 'إياه', 'لستن', 'مازال', 'اللواتي', 'ثمنمئة', 'فلان', 'هنا', 'هاتين', 'عاد', 'لولا', 'تحوّل', 'ثلاث', 'أصلا', 'ما برح', 'فمن', 'آب', 'إياهما', 'نحو', 'متى', 'ع', 'فيفري', 'ى', 'مثل', 'نيسان', 'فرادى', 'جعل', 'أكثر', 'هَاتِي', 'هكذا', 'ر', 'قطّ', 'لعل', 'أسكن', 'هاتي', 'يوليو', 'اثنان', 'إمّا', 'ولا', 'ما انفك', 'فوق', 'كذلك', 'فيه', 'وما', 'أخذ', 'والذي', 'ة', 'أمّا', 'هيّا', 'لعمر', 'غادر', 'قاف', 'أُفٍّ', 'ذلكما', 'ذَيْنِ', 'ذلك', 'فلس', 'ضحوة', 'آه', 'بك', 'كيف', 'لي', 'تسعون', 'فضلا', 'انقلب', 'هللة', 'هَذانِ', 'جير', 'أمامكَ', 'كأيّ', 'جنيه', 'هيت', 'فاء', 'كِخ', 'هو', 'أنتما', 'بهن', 'إزاء', 'ذال', 'بما', 'ذو', 'وإذا', 'الذي', 'مرّة', 'عل', 'إذما', 'تِه', 'هَاتِه', 'تسعة', 'لستما', 'أنا', 'أصبح', 'مع', 'صاد', 'يفعلان', 'لهما', 'ستين', 'حبذا', 'كليكما', 'لو', 'ستة', 'هلم', 'قرش', 'نبَّا', 'إياك', 'ثلاثاء', 'كلا', 'يناير', 'هَذَيْنِ', 'أولالك', 'ثلاثمئة', 'تعسا', 'غين', 'شرع', 'أربعمئة', 'اربعون', 'الآن', 'أينما', 'ابتدأ', 'ريال', 'ثمّة', 'همزة', 'ث', 'ذيت', 'أبدا', 'أمام', 'عشر', 'بماذا', 'هاك', 'حمدا', 'إنه', 'أربع', 'آها', 'ت', 'أخو', 'أخبر', 'بغتة', 'كسا', 'خلافا', 'غالبا', 'حيثما', 'تِي', 'إذاً', 'علًّ', 'أقل', 'كثيرا', 'تجاه', 'ستمئة', 'هي', 'بهم', 'حرى', 'غدا', 'تشرين', 'رجع', 'ذه', 'أهلا', 'حار', 'سبعمئة', 'كلتا', 'خ', 'خمسمائة', 'هاته', 'مكانَك', 'ومن', 'هاهنا', 'أولاء']\n"
          ]
        },
        {
          "output_type": "stream",
          "name": "stderr",
          "text": [
            "[nltk_data] Downloading package stopwords to /root/nltk_data...\n",
            "[nltk_data]   Unzipping corpora/stopwords.zip.\n"
          ]
        }
      ]
    },
    {
      "cell_type": "code",
      "source": [
        "import re\n",
        "import string\n",
        "import sys\n",
        "import argparse\n",
        "from nltk.tokenize import word_tokenize\n",
        "\n",
        "arabic_punctuations = '''`÷×؛<>_()*&^%][ـ،/:\"؟.,'{}~¦+|!”…“–ـ'''\n",
        "english_punctuations = string.punctuation\n",
        "punctuations_list = arabic_punctuations + english_punctuations"
      ],
      "metadata": {
        "id": "Cx4I_ZwJKXH8"
      },
      "id": "Cx4I_ZwJKXH8",
      "execution_count": 18,
      "outputs": []
    },
    {
      "cell_type": "code",
      "source": [
        "def remove_diacritics(text):\n",
        "    arabic_diacritics = re.compile(\"\"\" ّ    | # Tashdid\n",
        "                             َ    | # Fatha\n",
        "                             ً    | # Tanwin Fath\n",
        "                             ُ    | # Damma\n",
        "                             ٌ    | # Tanwin Damm\n",
        "                             ِ    | # Kasra\n",
        "                             ٍ    | # Tanwin Kasr\n",
        "                             ْ    | # Sukun\n",
        "                             ـ     # Tatwil/Kashida\n",
        "                         \"\"\", re.VERBOSE)\n",
        "    text = re.sub(arabic_diacritics, '', str(text))\n",
        "    return text\n",
        "\n",
        "def remove_emoji(text):\n",
        "    regrex_pattern = re.compile(pattern = \"[\"\n",
        "        u\"\\U0001F600-\\U0001F64F\"  # emoticons\n",
        "        u\"\\U0001F300-\\U0001F5FF\"  # symbols & pictographs\n",
        "        u\"\\U0001F680-\\U0001F6FF\"  # transport & map symbols\n",
        "        u\"\\U0001F1E0-\\U0001F1FF\"  # flags (iOS)\n",
        "                           \"]+\", flags = re.UNICODE)\n",
        "    return regrex_pattern.sub(r'',text)\n",
        "\n",
        "def clean_text(text):\n",
        "    text = \"\".join([word for word in text if word not in string.punctuation])\n",
        "    text = remove_emoji(text)\n",
        "    text = remove_diacritics(text)\n",
        "    tokens = word_tokenize(text)\n",
        "    text = ' '.join([word for word in tokens if word not in stop_words])\n",
        "    return text"
      ],
      "metadata": {
        "id": "y_gw1qjWKXM0"
      },
      "id": "y_gw1qjWKXM0",
      "execution_count": 20,
      "outputs": []
    },
    {
      "cell_type": "code",
      "source": [
        "import nltk\n",
        "nltk.download('punkt')\n",
        "df['cleanedtext'] = df['text'].apply(clean_text)"
      ],
      "metadata": {
        "colab": {
          "base_uri": "https://localhost:8080/"
        },
        "id": "gGUtGk_uKXt9",
        "outputId": "0b829b56-544a-403a-f55f-c9dba873a02c"
      },
      "id": "gGUtGk_uKXt9",
      "execution_count": 22,
      "outputs": [
        {
          "output_type": "stream",
          "name": "stderr",
          "text": [
            "[nltk_data] Downloading package punkt to /root/nltk_data...\n",
            "[nltk_data]   Unzipping tokenizers/punkt.zip.\n"
          ]
        }
      ]
    },
    {
      "cell_type": "code",
      "source": [
        "df.sample(10)"
      ],
      "metadata": {
        "colab": {
          "base_uri": "https://localhost:8080/",
          "height": 363
        },
        "id": "y0LetruZKXzk",
        "outputId": "0924f31b-c924-4d5b-a656-c4564a36162c"
      },
      "id": "y0LetruZKXzk",
      "execution_count": 23,
      "outputs": [
        {
          "output_type": "execute_result",
          "data": {
            "text/plain": [
              "          label                                               text  \\\n",
              "49320     Mixed  اديت للكتاب نجوم أول واحدة عشان الغلاف ألوانه ...   \n",
              "23991  Positive                      حكم تقودك لمعرفة الله جل علاه   \n",
              "40980     Mixed  كتاب جميل لكن مليئ بالتفاصيل التى من الممكن ان...   \n",
              "39968     Mixed  كل ما تحتاجه بجانبك . . المكان من حيث الموقع م...   \n",
              "48948     Mixed  عندما تنتهى من الكتاب فى قعدة حينما تدوخ مع ال...   \n",
              "20199  Positive              رحلة عائلية . خدمة الموظفين. القوانين   \n",
              "85464  Negative  حسنا .. لم أكمل الكتاب بعد .. لكنني كونت فكرة ...   \n",
              "37101     Mixed  من حيث الحدوته فهي مشوقة لكن صعب جدا أني اتعام...   \n",
              "39314     Mixed  مقبول. السعر معقول. حجزت عن طريق البوكنق سرير ...   \n",
              "10     Positive  انا بمووووووووووووووت ف حاجة اسمها أدهم صبري. ...   \n",
              "\n",
              "                                             cleanedtext  \n",
              "49320  اديت للكتاب نجوم واحدة عشان الغلاف ألوانه عجبت...  \n",
              "23991                      حكم تقودك لمعرفة الله جل علاه  \n",
              "40980  كتاب جميل مليئ بالتفاصيل التى الممكن ان تجعل ا...  \n",
              "39968  تحتاجه بجانبك المكان الموقع ممتاز جدا يفتقر ال...  \n",
              "48948  عندما تنتهى الكتاب فى قعدة حينما تدوخ الكتاب ل...  \n",
              "20199                 رحلة عائلية خدمة الموظفين القوانين  \n",
              "85464  حسنا أكمل الكتاب لكنني كونت فكرة با ولية ، فقد...  \n",
              "37101  الحدوته فهي مشوقة صعب جدا أني اتعامل الحدوته د...  \n",
              "39314  مقبول السعر معقول حجزت طريق البوكنق سرير مزدوج...  \n",
              "10     انا بمووووووووووووووت حاجة اسمها أدهم صبري الع...  "
            ],
            "text/html": [
              "\n",
              "  <div id=\"df-cf636e16-0ec4-4f3a-bebb-6240877c5e67\">\n",
              "    <div class=\"colab-df-container\">\n",
              "      <div>\n",
              "<style scoped>\n",
              "    .dataframe tbody tr th:only-of-type {\n",
              "        vertical-align: middle;\n",
              "    }\n",
              "\n",
              "    .dataframe tbody tr th {\n",
              "        vertical-align: top;\n",
              "    }\n",
              "\n",
              "    .dataframe thead th {\n",
              "        text-align: right;\n",
              "    }\n",
              "</style>\n",
              "<table border=\"1\" class=\"dataframe\">\n",
              "  <thead>\n",
              "    <tr style=\"text-align: right;\">\n",
              "      <th></th>\n",
              "      <th>label</th>\n",
              "      <th>text</th>\n",
              "      <th>cleanedtext</th>\n",
              "    </tr>\n",
              "  </thead>\n",
              "  <tbody>\n",
              "    <tr>\n",
              "      <th>49320</th>\n",
              "      <td>Mixed</td>\n",
              "      <td>اديت للكتاب نجوم أول واحدة عشان الغلاف ألوانه ...</td>\n",
              "      <td>اديت للكتاب نجوم واحدة عشان الغلاف ألوانه عجبت...</td>\n",
              "    </tr>\n",
              "    <tr>\n",
              "      <th>23991</th>\n",
              "      <td>Positive</td>\n",
              "      <td>حكم تقودك لمعرفة الله جل علاه</td>\n",
              "      <td>حكم تقودك لمعرفة الله جل علاه</td>\n",
              "    </tr>\n",
              "    <tr>\n",
              "      <th>40980</th>\n",
              "      <td>Mixed</td>\n",
              "      <td>كتاب جميل لكن مليئ بالتفاصيل التى من الممكن ان...</td>\n",
              "      <td>كتاب جميل مليئ بالتفاصيل التى الممكن ان تجعل ا...</td>\n",
              "    </tr>\n",
              "    <tr>\n",
              "      <th>39968</th>\n",
              "      <td>Mixed</td>\n",
              "      <td>كل ما تحتاجه بجانبك . . المكان من حيث الموقع م...</td>\n",
              "      <td>تحتاجه بجانبك المكان الموقع ممتاز جدا يفتقر ال...</td>\n",
              "    </tr>\n",
              "    <tr>\n",
              "      <th>48948</th>\n",
              "      <td>Mixed</td>\n",
              "      <td>عندما تنتهى من الكتاب فى قعدة حينما تدوخ مع ال...</td>\n",
              "      <td>عندما تنتهى الكتاب فى قعدة حينما تدوخ الكتاب ل...</td>\n",
              "    </tr>\n",
              "    <tr>\n",
              "      <th>20199</th>\n",
              "      <td>Positive</td>\n",
              "      <td>رحلة عائلية . خدمة الموظفين. القوانين</td>\n",
              "      <td>رحلة عائلية خدمة الموظفين القوانين</td>\n",
              "    </tr>\n",
              "    <tr>\n",
              "      <th>85464</th>\n",
              "      <td>Negative</td>\n",
              "      <td>حسنا .. لم أكمل الكتاب بعد .. لكنني كونت فكرة ...</td>\n",
              "      <td>حسنا أكمل الكتاب لكنني كونت فكرة با ولية ، فقد...</td>\n",
              "    </tr>\n",
              "    <tr>\n",
              "      <th>37101</th>\n",
              "      <td>Mixed</td>\n",
              "      <td>من حيث الحدوته فهي مشوقة لكن صعب جدا أني اتعام...</td>\n",
              "      <td>الحدوته فهي مشوقة صعب جدا أني اتعامل الحدوته د...</td>\n",
              "    </tr>\n",
              "    <tr>\n",
              "      <th>39314</th>\n",
              "      <td>Mixed</td>\n",
              "      <td>مقبول. السعر معقول. حجزت عن طريق البوكنق سرير ...</td>\n",
              "      <td>مقبول السعر معقول حجزت طريق البوكنق سرير مزدوج...</td>\n",
              "    </tr>\n",
              "    <tr>\n",
              "      <th>10</th>\n",
              "      <td>Positive</td>\n",
              "      <td>انا بمووووووووووووووت ف حاجة اسمها أدهم صبري. ...</td>\n",
              "      <td>انا بمووووووووووووووت حاجة اسمها أدهم صبري الع...</td>\n",
              "    </tr>\n",
              "  </tbody>\n",
              "</table>\n",
              "</div>\n",
              "      <button class=\"colab-df-convert\" onclick=\"convertToInteractive('df-cf636e16-0ec4-4f3a-bebb-6240877c5e67')\"\n",
              "              title=\"Convert this dataframe to an interactive table.\"\n",
              "              style=\"display:none;\">\n",
              "        \n",
              "  <svg xmlns=\"http://www.w3.org/2000/svg\" height=\"24px\"viewBox=\"0 0 24 24\"\n",
              "       width=\"24px\">\n",
              "    <path d=\"M0 0h24v24H0V0z\" fill=\"none\"/>\n",
              "    <path d=\"M18.56 5.44l.94 2.06.94-2.06 2.06-.94-2.06-.94-.94-2.06-.94 2.06-2.06.94zm-11 1L8.5 8.5l.94-2.06 2.06-.94-2.06-.94L8.5 2.5l-.94 2.06-2.06.94zm10 10l.94 2.06.94-2.06 2.06-.94-2.06-.94-.94-2.06-.94 2.06-2.06.94z\"/><path d=\"M17.41 7.96l-1.37-1.37c-.4-.4-.92-.59-1.43-.59-.52 0-1.04.2-1.43.59L10.3 9.45l-7.72 7.72c-.78.78-.78 2.05 0 2.83L4 21.41c.39.39.9.59 1.41.59.51 0 1.02-.2 1.41-.59l7.78-7.78 2.81-2.81c.8-.78.8-2.07 0-2.86zM5.41 20L4 18.59l7.72-7.72 1.47 1.35L5.41 20z\"/>\n",
              "  </svg>\n",
              "      </button>\n",
              "      \n",
              "  <style>\n",
              "    .colab-df-container {\n",
              "      display:flex;\n",
              "      flex-wrap:wrap;\n",
              "      gap: 12px;\n",
              "    }\n",
              "\n",
              "    .colab-df-convert {\n",
              "      background-color: #E8F0FE;\n",
              "      border: none;\n",
              "      border-radius: 50%;\n",
              "      cursor: pointer;\n",
              "      display: none;\n",
              "      fill: #1967D2;\n",
              "      height: 32px;\n",
              "      padding: 0 0 0 0;\n",
              "      width: 32px;\n",
              "    }\n",
              "\n",
              "    .colab-df-convert:hover {\n",
              "      background-color: #E2EBFA;\n",
              "      box-shadow: 0px 1px 2px rgba(60, 64, 67, 0.3), 0px 1px 3px 1px rgba(60, 64, 67, 0.15);\n",
              "      fill: #174EA6;\n",
              "    }\n",
              "\n",
              "    [theme=dark] .colab-df-convert {\n",
              "      background-color: #3B4455;\n",
              "      fill: #D2E3FC;\n",
              "    }\n",
              "\n",
              "    [theme=dark] .colab-df-convert:hover {\n",
              "      background-color: #434B5C;\n",
              "      box-shadow: 0px 1px 3px 1px rgba(0, 0, 0, 0.15);\n",
              "      filter: drop-shadow(0px 1px 2px rgba(0, 0, 0, 0.3));\n",
              "      fill: #FFFFFF;\n",
              "    }\n",
              "  </style>\n",
              "\n",
              "      <script>\n",
              "        const buttonEl =\n",
              "          document.querySelector('#df-cf636e16-0ec4-4f3a-bebb-6240877c5e67 button.colab-df-convert');\n",
              "        buttonEl.style.display =\n",
              "          google.colab.kernel.accessAllowed ? 'block' : 'none';\n",
              "\n",
              "        async function convertToInteractive(key) {\n",
              "          const element = document.querySelector('#df-cf636e16-0ec4-4f3a-bebb-6240877c5e67');\n",
              "          const dataTable =\n",
              "            await google.colab.kernel.invokeFunction('convertToInteractive',\n",
              "                                                     [key], {});\n",
              "          if (!dataTable) return;\n",
              "\n",
              "          const docLinkHtml = 'Like what you see? Visit the ' +\n",
              "            '<a target=\"_blank\" href=https://colab.research.google.com/notebooks/data_table.ipynb>data table notebook</a>'\n",
              "            + ' to learn more about interactive tables.';\n",
              "          element.innerHTML = '';\n",
              "          dataTable['output_type'] = 'display_data';\n",
              "          await google.colab.output.renderOutput(dataTable, element);\n",
              "          const docLink = document.createElement('div');\n",
              "          docLink.innerHTML = docLinkHtml;\n",
              "          element.appendChild(docLink);\n",
              "        }\n",
              "      </script>\n",
              "    </div>\n",
              "  </div>\n",
              "  "
            ]
          },
          "metadata": {},
          "execution_count": 23
        }
      ]
    }
  ],
  "metadata": {
    "kernelspec": {
      "display_name": "Python 3",
      "language": "python",
      "name": "python3"
    },
    "language_info": {
      "codemirror_mode": {
        "name": "ipython",
        "version": 3
      },
      "file_extension": ".py",
      "mimetype": "text/x-python",
      "name": "python",
      "nbconvert_exporter": "python",
      "pygments_lexer": "ipython3",
      "version": "3.8.8"
    },
    "colab": {
      "provenance": []
    }
  },
  "nbformat": 4,
  "nbformat_minor": 5
}